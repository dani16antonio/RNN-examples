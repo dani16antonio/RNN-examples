{
 "cells": [
  {
   "cell_type": "markdown",
   "metadata": {},
   "source": [
    "# Char-RNN stateless\n",
    "* This RNN generate char by char sentences trained by Shakespeare's work\n",
    "* this RNN is statefull, so the state at eache timestep is preserved."
   ]
  },
  {
   "cell_type": "markdown",
   "metadata": {},
   "source": [
    "## Import dependencies"
   ]
  },
  {
   "cell_type": "code",
   "execution_count": 83,
   "metadata": {},
   "outputs": [],
   "source": [
    "import numpy as np\n",
    "\n",
    "import tensorflow as tf\n",
    "from tensorflow import keras"
   ]
  },
  {
   "cell_type": "markdown",
   "metadata": {},
   "source": [
    "## Creating Dataset"
   ]
  },
  {
   "cell_type": "code",
   "execution_count": 84,
   "metadata": {},
   "outputs": [],
   "source": [
    "#Download data\n",
    "shakespeare_url = \"http://homl.info/shakespeare\"\n",
    "filepath = keras.utils.get_file(\"shakespeare.txt\", shakespeare_url)\n",
    "with open(filepath) as file:\n",
    "    shakespeare_text = file.read()"
   ]
  },
  {
   "cell_type": "code",
   "execution_count": 85,
   "metadata": {},
   "outputs": [],
   "source": [
    "# Tokenize chars\n",
    "tokenizer = keras.preprocessing.text.Tokenizer(char_level=True)  # char_level=True allows char \n",
    "                                                                 # encoding instead default word enoding\n",
    "tokenizer.fit_on_texts(shakespeare_text)"
   ]
  },
  {
   "cell_type": "code",
   "execution_count": 86,
   "metadata": {},
   "outputs": [],
   "source": [
    "[encoded] = np.array(tokenizer.texts_to_sequences([shakespeare_text])) - 1  # [encoded] = encoded.squeeze()"
   ]
  },
  {
   "cell_type": "code",
   "execution_count": 87,
   "metadata": {},
   "outputs": [],
   "source": [
    "# Split Sequential dataset\n",
    "dataset_size = tokenizer.document_count\n",
    "train_size = dataset_size * 90 // 100"
   ]
  },
  {
   "cell_type": "code",
   "execution_count": 88,
   "metadata": {},
   "outputs": [],
   "source": [
    "n_steps = 100\n",
    "window_length = n_steps + 1\n",
    "batch_size = 32\n",
    "encoded_parts = np.array_split(encoded[:train_size], batch_size)\n",
    "datasets = []\n",
    "for encoded_part in encoded_parts:\n",
    "    dataset = tf.data.Dataset.from_tensor_slices(encoded_part)\n",
    "    dataset = dataset.window(window_length, shift=n_steps, drop_remainder=True)\n",
    "    dataset = dataset.flat_map(lambda window: window.batch(window_length))\n",
    "    datasets.append(dataset)\n",
    "dataset = tf.data.Dataset.zip(tuple(datasets)).map(lambda *windows: tf.stack(windows))\n",
    "dataset = dataset.repeat().map(lambda windows: (windows[:, :-1], windows[:, 1:]))\n",
    "dataset = dataset.map(\n",
    "    lambda X_batch, Y_batch: (tf.one_hot(X_batch, depth=max_id), Y_batch))\n",
    "dataset = dataset.prefetch(1)"
   ]
  },
  {
   "cell_type": "code",
   "execution_count": 89,
   "metadata": {},
   "outputs": [],
   "source": [
    "model = keras.Sequential([\n",
    "    keras.layers.GRU(128, return_sequences=True, stateful=True, dropout=.2, \n",
    "                     recurrent_dropout=.2, batch_input_shape=[batch_size, None, max_id]),\n",
    "    keras.layers.GRU(128, return_sequences=True, stateful=True, dropout=.2, recurrent_dropout=.2),\n",
    "    keras.layers.TimeDistributed(keras.layers.Dense(max_id, activation=\"softmax\"))\n",
    "])"
   ]
  },
  {
   "cell_type": "code",
   "execution_count": 90,
   "metadata": {},
   "outputs": [],
   "source": [
    "# Callback class to reset state in each epoch\n",
    "class ResetStateCallback(keras.callbacks.Callback):\n",
    "    def on_epoch_begin(self, epoch, logs):\n",
    "        self.model.reset_states()"
   ]
  },
  {
   "cell_type": "code",
   "execution_count": 97,
   "metadata": {
    "scrolled": true
   },
   "outputs": [
    {
     "name": "stdout",
     "output_type": "stream",
     "text": [
      "Epoch 1/50\n",
      "313/313 [==============================] - 55s 175ms/step - loss: 1.9893\n",
      "Epoch 2/50\n",
      "313/313 [==============================] - 60s 192ms/step - loss: 2.5787\n",
      "Epoch 3/50\n",
      "313/313 [==============================] - 61s 194ms/step - loss: 2.1947\n",
      "Epoch 4/50\n",
      "313/313 [==============================] - 61s 195ms/step - loss: 1.9874\n",
      "Epoch 5/50\n",
      "313/313 [==============================] - 63s 202ms/step - loss: 1.9182\n",
      "Epoch 6/50\n",
      "313/313 [==============================] - 66s 211ms/step - loss: 1.7921\n",
      "Epoch 7/50\n",
      "313/313 [==============================] - 96s 306ms/step - loss: 1.7622\n",
      "Epoch 8/50\n",
      "313/313 [==============================] - 101s 322ms/step - loss: 1.7386\n",
      "Epoch 9/50\n",
      "313/313 [==============================] - 101s 322ms/step - loss: 1.7215\n",
      "Epoch 10/50\n",
      "313/313 [==============================] - 101s 323ms/step - loss: 1.7053\n",
      "Epoch 11/50\n",
      "313/313 [==============================] - 83s 266ms/step - loss: 1.6925\n",
      "Epoch 12/50\n",
      "313/313 [==============================] - 60s 190ms/step - loss: 1.6804\n",
      "Epoch 13/50\n",
      "313/313 [==============================] - 63s 200ms/step - loss: 1.6694\n",
      "Epoch 14/50\n",
      "313/313 [==============================] - 64s 205ms/step - loss: 1.6612\n",
      "Epoch 15/50\n",
      "313/313 [==============================] - 64s 205ms/step - loss: 1.6523\n",
      "Epoch 16/50\n",
      "313/313 [==============================] - 67s 214ms/step - loss: 1.6468\n",
      "Epoch 17/50\n",
      "313/313 [==============================] - 66s 211ms/step - loss: 1.6384\n",
      "Epoch 18/50\n",
      "313/313 [==============================] - 66s 210ms/step - loss: 1.6333\n",
      "Epoch 19/50\n",
      "313/313 [==============================] - 65s 208ms/step - loss: 1.6268\n",
      "Epoch 20/50\n",
      "313/313 [==============================] - 67s 213ms/step - loss: 1.6218\n",
      "Epoch 21/50\n",
      "313/313 [==============================] - 65s 209ms/step - loss: 1.6175\n",
      "Epoch 22/50\n",
      "313/313 [==============================] - 67s 215ms/step - loss: 1.6134\n",
      "Epoch 23/50\n",
      "313/313 [==============================] - 65s 208ms/step - loss: 1.6091\n",
      "Epoch 24/50\n",
      "313/313 [==============================] - 64s 204ms/step - loss: 1.6051\n",
      "Epoch 25/50\n",
      "313/313 [==============================] - 64s 204ms/step - loss: 1.6007\n",
      "Epoch 26/50\n",
      "313/313 [==============================] - 70s 223ms/step - loss: 1.5978\n",
      "Epoch 27/50\n",
      "313/313 [==============================] - 70s 223ms/step - loss: 1.5952\n",
      "Epoch 28/50\n",
      "313/313 [==============================] - 73s 233ms/step - loss: 1.5923\n",
      "Epoch 29/50\n",
      "313/313 [==============================] - 76s 243ms/step - loss: 1.5891\n",
      "Epoch 30/50\n",
      "313/313 [==============================] - 72s 231ms/step - loss: 1.5877\n",
      "Epoch 31/50\n",
      "313/313 [==============================] - 67s 213ms/step - loss: 1.5839\n",
      "Epoch 32/50\n",
      "313/313 [==============================] - 66s 211ms/step - loss: 1.5821\n",
      "Epoch 33/50\n",
      "313/313 [==============================] - 64s 206ms/step - loss: 1.5792\n",
      "Epoch 34/50\n",
      "313/313 [==============================] - 64s 204ms/step - loss: 1.5769\n",
      "Epoch 35/50\n",
      "313/313 [==============================] - 64s 204ms/step - loss: 1.5744\n",
      "Epoch 36/50\n",
      "313/313 [==============================] - 64s 205ms/step - loss: 1.5730\n",
      "Epoch 37/50\n",
      "313/313 [==============================] - 64s 206ms/step - loss: 1.5716\n",
      "Epoch 38/50\n",
      "313/313 [==============================] - 65s 207ms/step - loss: 1.5692\n",
      "Epoch 39/50\n",
      "313/313 [==============================] - 83s 266ms/step - loss: 1.5671\n",
      "Epoch 40/50\n",
      "313/313 [==============================] - 110s 351ms/step - loss: 1.5664\n",
      "Epoch 41/50\n",
      "313/313 [==============================] - 113s 360ms/step - loss: 1.5646\n",
      "Epoch 42/50\n",
      "313/313 [==============================] - 113s 361ms/step - loss: 1.5625\n",
      "Epoch 43/50\n",
      "313/313 [==============================] - 110s 351ms/step - loss: 1.5600\n",
      "Epoch 44/50\n",
      "313/313 [==============================] - 109s 348ms/step - loss: 1.5610\n",
      "Epoch 45/50\n",
      "313/313 [==============================] - 110s 352ms/step - loss: 1.5587\n",
      "Epoch 46/50\n",
      "313/313 [==============================] - 108s 346ms/step - loss: 1.5570\n",
      "Epoch 47/50\n",
      "313/313 [==============================] - 108s 344ms/step - loss: 1.5559\n",
      "Epoch 48/50\n",
      "313/313 [==============================] - 107s 343ms/step - loss: 1.5549\n",
      "Epoch 49/50\n",
      "313/313 [==============================] - 111s 353ms/step - loss: 1.5525\n",
      "Epoch 50/50\n",
      "313/313 [==============================] - 109s 350ms/step - loss: 1.5513\n"
     ]
    }
   ],
   "source": [
    "model.compile(loss=\"sparse_categorical_crossentropy\", optimizer=\"adam\")\n",
    "steps_per_epoch = train_size // batch_size // n_steps\n",
    "history = model.fit(dataset, epochs=50, steps_per_epoch=steps_per_epoch, callbacks=[ResetStateCallback()])"
   ]
  },
  {
   "cell_type": "code",
   "execution_count": 103,
   "metadata": {},
   "outputs": [],
   "source": [
    "def process(text):\n",
    "    X = np.array(tokenizer.texts_to_sequences(text)) - 1\n",
    "    return tf.one_hot(X, max_id)"
   ]
  },
  {
   "cell_type": "code",
   "execution_count": 128,
   "metadata": {},
   "outputs": [],
   "source": [
    "def next_char(text, temperature=1, model=model):\n",
    "    X_new = process([text])\n",
    "    y_proba = model.predict(X_new)[0, -1:, :]\n",
    "    rescaled_logits = tf.math.log(y_proba) / temperature\n",
    "    char_id = tf.random.categorical(rescaled_logits, num_samples=1) + 1\n",
    "    return tokenizer.sequences_to_texts(char_id.numpy())[0]"
   ]
  },
  {
   "cell_type": "code",
   "execution_count": 129,
   "metadata": {},
   "outputs": [],
   "source": [
    "def complete_text(text, n_char=50, temperature=1, model=model):\n",
    "    for _ in range(n_char):\n",
    "        text += next_char(text, temperature, model)\n",
    "    return text"
   ]
  },
  {
   "cell_type": "markdown",
   "metadata": {},
   "source": [
    "**NOTE**: with stateful you have to give a batch with the same size in the training, 39 chars, \n",
    "    to change this, you have to save the weights and load it in a stateless model"
   ]
  },
  {
   "cell_type": "code",
   "execution_count": 124,
   "metadata": {},
   "outputs": [],
   "source": [
    "stateless_model = keras.models.Sequential([\n",
    "    keras.layers.GRU(128, return_sequences=True, input_shape=[None, max_id]),\n",
    "    keras.layers.GRU(128, return_sequences=True),\n",
    "    keras.layers.TimeDistributed(keras.layers.Dense(max_id,\n",
    "                                                    activation=\"softmax\"))\n",
    "])"
   ]
  },
  {
   "cell_type": "code",
   "execution_count": 125,
   "metadata": {},
   "outputs": [],
   "source": [
    "stateless_model.build(tf.TensorShape([None, None, max_id]))"
   ]
  },
  {
   "cell_type": "code",
   "execution_count": 126,
   "metadata": {},
   "outputs": [],
   "source": [
    "stateless_model.set_weights(model.get_weights())"
   ]
  },
  {
   "cell_type": "code",
   "execution_count": 135,
   "metadata": {},
   "outputs": [
    {
     "name": "stdout",
     "output_type": "stream",
     "text": [
      "how of the face\n",
      "and piving that seovs can we our fa\n"
     ]
    }
   ],
   "source": [
    "print(complete_text(\"h\", model=stateless_model))"
   ]
  },
  {
   "cell_type": "code",
   "execution_count": null,
   "metadata": {},
   "outputs": [],
   "source": []
  }
 ],
 "metadata": {
  "kernelspec": {
   "display_name": "Python 3",
   "language": "python",
   "name": "python3"
  },
  "language_info": {
   "codemirror_mode": {
    "name": "ipython",
    "version": 3
   },
   "file_extension": ".py",
   "mimetype": "text/x-python",
   "name": "python",
   "nbconvert_exporter": "python",
   "pygments_lexer": "ipython3",
   "version": "3.8.5"
  }
 },
 "nbformat": 4,
 "nbformat_minor": 4
}
